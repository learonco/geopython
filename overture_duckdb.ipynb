{
 "cells": [
  {
   "cell_type": "markdown",
   "id": "e859b569",
   "metadata": {},
   "source": [
    "#### The following notebooks shows the integrations between DuckDB spatial and loanboard library to display data from Overture Map building."
   ]
  },
  {
   "cell_type": "code",
   "execution_count": 16,
   "id": "4289f7f4",
   "metadata": {},
   "outputs": [],
   "source": [
    "import duckdb\n",
    "import lonboard"
   ]
  },
  {
   "cell_type": "code",
   "execution_count": 17,
   "id": "e84e6485",
   "metadata": {},
   "outputs": [
    {
     "data": {
      "text/plain": [
       "<duckdb.duckdb.DuckDBPyConnection at 0x1b819028e30>"
      ]
     },
     "execution_count": 17,
     "metadata": {},
     "output_type": "execute_result"
    }
   ],
   "source": [
    "# Connect to DuckDB and install extensions\n",
    "db = duckdb.connect()\n",
    "db.execute(\"\"\"\n",
    "    INSTALL spatial;\n",
    "    LOAD spatial;\n",
    "\n",
    "    INSTALL httpfs;\n",
    "    LOAD httpfs;\n",
    "    SET s3_region='us-west-2';\n",
    "\"\"\")"
   ]
  },
  {
   "cell_type": "code",
   "execution_count": 25,
   "id": "4eab08ec",
   "metadata": {},
   "outputs": [
    {
     "data": {
      "application/vnd.jupyter.widget-view+json": {
       "model_id": "89b08f15419342fe9c16d2e3747fd81b",
       "version_major": 2,
       "version_minor": 0
      },
      "text/plain": [
       "FloatProgress(value=0.0, layout=Layout(width='auto'), style=ProgressStyle(bar_color='black'))"
      ]
     },
     "metadata": {},
     "output_type": "display_data"
    },
    {
     "data": {
      "text/plain": [
       "<duckdb.duckdb.DuckDBPyConnection at 0x1b819028e30>"
      ]
     },
     "execution_count": 25,
     "metadata": {},
     "output_type": "execute_result"
    }
   ],
   "source": [
    "# Define Buenos Aires bounding box coordinates\n",
    "buenos_aires_bbox = \"\"\"\n",
    "SELECT ST_GeomFromText('POLYGON((\n",
    "    -58.3700 -34.6200,\n",
    "    -58.3700 -34.5900,\n",
    "    -58.3550 -34.5900,\n",
    "    -58.3550 -34.6200,\n",
    "    -58.3700 -34.6200\n",
    "))') as geometry\n",
    "\"\"\"\n",
    "\n",
    "# Query buildings from Overture Maps\n",
    "buildings_query = f\"\"\"\n",
    "SELECT\n",
    "  id,\n",
    "  geometry,\n",
    "  height,\n",
    "  class as building_type\n",
    "FROM read_parquet('s3://overturemaps-us-west-2/release/2025-03-19.0/theme=buildings/type=building/*.parquet', hive_partitioning=1)\n",
    "WHERE bbox.xmin BETWEEN -58.53 AND -58.34\n",
    "  AND bbox.ymin BETWEEN -34.71 AND -34.52\n",
    "  AND height > 0\n",
    "\"\"\"\n",
    "\n",
    "# Execute query and create table\n",
    "db.execute(\"CREATE OR REPLACE TABLE buenos_aires_buildings AS \" + buildings_query)"
   ]
  },
  {
   "cell_type": "code",
   "execution_count": 26,
   "id": "cf0d50b7",
   "metadata": {},
   "outputs": [],
   "source": [
    "# Create map visualization\n",
    "layer = lonboard.PolygonLayer.from_duckdb(\n",
    "    sql=\"SELECT * FROM buenos_aires_buildings\",\n",
    "    con=db,\n",
    "    get_fill_color=[200, 100, 0, 180],\n",
    "    get_line_color=[0, 0, 0, 255],\n",
    "    get_line_width=1,\n",
    "    pickable=True,\n",
    "    extruded=True,\n",
    "    get_elevation=db.table('buenos_aires_buildings').arrow()[\"height\"],\n",
    "    auto_highlight=True\n",
    ")"
   ]
  },
  {
   "cell_type": "code",
   "execution_count": 27,
   "id": "4b2ead25",
   "metadata": {},
   "outputs": [
    {
     "data": {
      "application/vnd.jupyter.widget-view+json": {
       "model_id": "27cd18654b0a4db48d46f7b4756b2c29",
       "version_major": 2,
       "version_minor": 1
      },
      "text/plain": [
       "Map(custom_attribution='', layers=(PolygonLayer(auto_highlight=True, extruded=True, get_elevation=arro3.core.C…"
      ]
     },
     "execution_count": 27,
     "metadata": {},
     "output_type": "execute_result"
    }
   ],
   "source": [
    "map = lonboard.Map(\n",
    "    layers=[layer],\n",
    "    view_state={\n",
    "        \"longitude\": -58.45153,\n",
    "        \"latitude\": -34.58158,\n",
    "        \"zoom\": 13,\n",
    "        \"pitch\": 45,\n",
    "        \"bearing\": 0\n",
    "    }\n",
    ")\n",
    "\n",
    "map"
   ]
  },
  {
   "cell_type": "code",
   "execution_count": null,
   "id": "558e774b",
   "metadata": {},
   "outputs": [],
   "source": []
  }
 ],
 "metadata": {
  "kernelspec": {
   "display_name": "bikeshare",
   "language": "python",
   "name": "python3"
  },
  "language_info": {
   "codemirror_mode": {
    "name": "ipython",
    "version": 3
   },
   "file_extension": ".py",
   "mimetype": "text/x-python",
   "name": "python",
   "nbconvert_exporter": "python",
   "pygments_lexer": "ipython3",
   "version": "3.12.6"
  }
 },
 "nbformat": 4,
 "nbformat_minor": 5
}
