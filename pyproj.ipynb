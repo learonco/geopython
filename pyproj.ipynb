{
 "cells": [
  {
   "cell_type": "markdown",
   "id": "2486cb71",
   "metadata": {},
   "source": [
    "### This notebook explores the different features of pyproj library"
   ]
  },
  {
   "cell_type": "code",
   "execution_count": 25,
   "id": "0e49f145",
   "metadata": {},
   "outputs": [],
   "source": [
    "from pyproj import CRS, database, aoi"
   ]
  },
  {
   "cell_type": "code",
   "execution_count": 37,
   "id": "2b61b4aa",
   "metadata": {},
   "outputs": [],
   "source": [
    "def search_crs_by_area(area_name, object_type=\"all\", filter_text=None):\n",
    "    \"\"\"\n",
    "    Searches for CRS applicable to a given area.\n",
    "\n",
    "    Parameters\n",
    "    ----------\n",
    "    area_name : str or pyproj.aoi.AreaOfInterest\n",
    "        The name of the area or AreaOfInterest object to search for.\n",
    "    object_type : str, optional\n",
    "        The type of CRS or other database object to search for.\n",
    "        Can be \"all\", \"geographic\", \"projected\", or other CRS types supported by pyproj.\n",
    "        Defaults to \"all\".\n",
    "    filter_text : str, optional\n",
    "        A string of text to filter the results by, performing a case-insensitive\n",
    "        search on the `area_of_use` attribute of each CRS. Defaults to None.\n",
    "\n",
    "    Returns\n",
    "    -------\n",
    "    list\n",
    "        A list of CRS objects that are applicable to the given area and CRS type.\n",
    "    \"\"\"\n",
    "\n",
    "    if object_type == \"all\":\n",
    "        crs_list = database.query_crs_info(area_of_interest=area_name, contains=False)\n",
    "    else:\n",
    "        crs_list = database.query_crs_info(\n",
    "            area_of_interest=area_name, pj_types=object_type.upper(), contains=False\n",
    "        )\n",
    "\n",
    "    if filter_text:\n",
    "        crs_list = [\n",
    "            crs\n",
    "            for crs in crs_list\n",
    "            if filter_text.lower() in crs.area_of_use.name.lower()\n",
    "        ]\n",
    "\n",
    "    return crs_list\n"
   ]
  },
  {
   "cell_type": "code",
   "execution_count": 38,
   "id": "a95c0e50",
   "metadata": {},
   "outputs": [],
   "source": [
    "argentina_bbox = (\n",
    "    -73.582520,\n",
    "    -55.162286,\n",
    "    -21.781349,\n",
    "    -53.637451\n",
    ")  # (minx, miny, maxx, maxy)"
   ]
  },
  {
   "cell_type": "code",
   "execution_count": 39,
   "id": "34ce2a5f",
   "metadata": {},
   "outputs": [],
   "source": [
    "argentina_aoi = aoi.AreaOfInterest(\n",
    "    west_lon_degree=argentina_bbox[0],\n",
    "    south_lat_degree=argentina_bbox[3],\n",
    "    east_lon_degree=argentina_bbox[1],\n",
    "    north_lat_degree=argentina_bbox[2]\n",
    ")\n"
   ]
  },
  {
   "cell_type": "code",
   "execution_count": 40,
   "id": "c5e06f45",
   "metadata": {},
   "outputs": [],
   "source": [
    "argentiana_crs_list = search_crs_by_area(\n",
    "    area_name=argentina_aoi,\n",
    "    object_type=\"GEOGRAPHIC_2D_CRS\",\n",
    "    filter_text=\"Argentina\"\n",
    ")"
   ]
  },
  {
   "cell_type": "code",
   "execution_count": 42,
   "id": "b5d2bd2f",
   "metadata": {},
   "outputs": [
    {
     "name": "stdout",
     "output_type": "stream",
     "text": [
      "EPSG:4160 - Chos Malal 1914 - Type: PJType.GEOGRAPHIC_2D_CRS\n",
      "EPSG:4161 - Pampa del Castillo - Type: PJType.GEOGRAPHIC_2D_CRS\n",
      "EPSG:4190 - POSGAR 98 - Type: PJType.GEOGRAPHIC_2D_CRS\n",
      "EPSG:4221 - Campo Inchauspe - Type: PJType.GEOGRAPHIC_2D_CRS\n",
      "EPSG:4254 - Hito XVIII 1963 - Type: PJType.GEOGRAPHIC_2D_CRS\n",
      "EPSG:4326 - WGS 84 - Type: PJType.GEOGRAPHIC_2D_CRS\n",
      "EPSG:4694 - POSGAR 94 - Type: PJType.GEOGRAPHIC_2D_CRS\n",
      "EPSG:5340 - POSGAR 2007 - Type: PJType.GEOGRAPHIC_2D_CRS\n",
      "EPSG:9248 - Tapi Aike - Type: PJType.GEOGRAPHIC_2D_CRS\n",
      "EPSG:9251 - MMN - Type: PJType.GEOGRAPHIC_2D_CRS\n",
      "EPSG:9253 - MMS - Type: PJType.GEOGRAPHIC_2D_CRS\n"
     ]
    }
   ],
   "source": [
    "for crs in argentiana_crs_list:\n",
    "    print(f\"EPSG:{crs.code} - {crs.name} - Type: {crs.type}\")\n",
    "    #print(f\"Area of Use: {crs.area_of_use}\")"
   ]
  },
  {
   "cell_type": "code",
   "execution_count": null,
   "id": "28a291a4",
   "metadata": {},
   "outputs": [],
   "source": []
  }
 ],
 "metadata": {
  "kernelspec": {
   "display_name": "geopython",
   "language": "python",
   "name": "python3"
  },
  "language_info": {
   "codemirror_mode": {
    "name": "ipython",
    "version": 3
   },
   "file_extension": ".py",
   "mimetype": "text/x-python",
   "name": "python",
   "nbconvert_exporter": "python",
   "pygments_lexer": "ipython3",
   "version": "3.13.4"
  }
 },
 "nbformat": 4,
 "nbformat_minor": 5
}
