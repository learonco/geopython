{
 "cells": [
  {
   "cell_type": "markdown",
   "id": "2486cb71",
   "metadata": {},
   "source": [
    "### This notebook explores the different features of pyproj library"
   ]
  },
  {
   "cell_type": "code",
   "execution_count": 13,
   "id": "0e49f145",
   "metadata": {},
   "outputs": [],
   "source": [
    "from shapely.geometry import box\n",
    "from pyproj import database, aoi\n",
    "import geopandas as gpd\n",
    "from lonboard import Map, PolygonLayer\n",
    "from lonboard.basemap import CartoBasemap"
   ]
  },
  {
   "cell_type": "code",
   "execution_count": 14,
   "id": "2b61b4aa",
   "metadata": {},
   "outputs": [],
   "source": [
    "def search_crs_by_area(area_name, object_type=\"all\", filter_text=None):\n",
    "    \"\"\"\n",
    "    Searches for CRS applicable to a given area.\n",
    "\n",
    "    Parameters\n",
    "    ----------\n",
    "    area_name : str or pyproj.aoi.AreaOfInterest\n",
    "        The name of the area or AreaOfInterest object to search for.\n",
    "    object_type : str, optional\n",
    "        The type of CRS or other database object to search for.\n",
    "        Can be \"all\", \"geographic\", \"projected\", or other CRS types supported by pyproj.\n",
    "        Defaults to \"all\".\n",
    "    filter_text : str, optional\n",
    "        A string of text to filter the results by, performing a case-insensitive\n",
    "        search on the `area_of_use` attribute of each CRS. Defaults to None.\n",
    "\n",
    "    Returns\n",
    "    -------\n",
    "    list\n",
    "        A list of CRS objects that are applicable to the given area and CRS type.\n",
    "    \"\"\"\n",
    "\n",
    "    if object_type == \"all\":\n",
    "        crs_list = database.query_crs_info(area_of_interest=area_name, contains=False)\n",
    "    else:\n",
    "        crs_list = database.query_crs_info(\n",
    "            area_of_interest=area_name, pj_types=object_type.upper(), contains=False\n",
    "        )\n",
    "\n",
    "    if filter_text:\n",
    "        crs_list = [\n",
    "            crs\n",
    "            for crs in crs_list\n",
    "            if filter_text.lower() in crs.area_of_use.name.lower()\n",
    "        ]\n",
    "\n",
    "    return crs_list\n"
   ]
  },
  {
   "cell_type": "code",
   "execution_count": 15,
   "id": "a95c0e50",
   "metadata": {},
   "outputs": [],
   "source": [
    "argentina_bbox = (\n",
    "    -73.582520,\n",
    "    -55.162286,\n",
    "    -21.781349,\n",
    "    -53.637451\n",
    ")  # (minx, miny, maxx, maxy)"
   ]
  },
  {
   "cell_type": "code",
   "execution_count": 16,
   "id": "34ce2a5f",
   "metadata": {},
   "outputs": [],
   "source": [
    "argentina_aoi = aoi.AreaOfInterest(\n",
    "    west_lon_degree=argentina_bbox[0],\n",
    "    south_lat_degree=argentina_bbox[3],\n",
    "    east_lon_degree=argentina_bbox[1],\n",
    "    north_lat_degree=argentina_bbox[2]\n",
    ")"
   ]
  },
  {
   "cell_type": "code",
   "execution_count": 17,
   "id": "c5e06f45",
   "metadata": {},
   "outputs": [],
   "source": [
    "argentiana_crs_list = search_crs_by_area(\n",
    "    area_name=argentina_aoi,\n",
    "    object_type=\"GEOGRAPHIC_2D_CRS\",\n",
    "    filter_text=\"Argentina\"\n",
    ")"
   ]
  },
  {
   "cell_type": "code",
   "execution_count": 18,
   "id": "b5d2bd2f",
   "metadata": {},
   "outputs": [
    {
     "name": "stdout",
     "output_type": "stream",
     "text": [
      "EPSG:4160 - Chos Malal 1914 - Type: PJType.GEOGRAPHIC_2D_CRS\n",
      "Area of Use: (-72.14, -43.41, -65.86, -31.91)\n",
      "EPSG:4161 - Pampa del Castillo - Type: PJType.GEOGRAPHIC_2D_CRS\n",
      "Area of Use: (-73.59, -50.34, -65.47, -42.49)\n",
      "EPSG:4190 - POSGAR 98 - Type: PJType.GEOGRAPHIC_2D_CRS\n",
      "Area of Use: (-73.59, -58.41, -52.63, -21.78)\n",
      "EPSG:4221 - Campo Inchauspe - Type: PJType.GEOGRAPHIC_2D_CRS\n",
      "Area of Use: (-73.59, -54.93, -53.65, -21.78)\n",
      "EPSG:4254 - Hito XVIII 1963 - Type: PJType.GEOGRAPHIC_2D_CRS\n",
      "Area of Use: (-74.83, -55.96, -63.73, -51.65)\n",
      "EPSG:4326 - WGS 84 - Type: PJType.GEOGRAPHIC_2D_CRS\n",
      "Area of Use: (-180.0, -90.0, 180.0, 90.0)\n",
      "EPSG:4694 - POSGAR 94 - Type: PJType.GEOGRAPHIC_2D_CRS\n",
      "Area of Use: (-73.59, -58.41, -52.63, -21.78)\n",
      "EPSG:5340 - POSGAR 2007 - Type: PJType.GEOGRAPHIC_2D_CRS\n",
      "Area of Use: (-73.59, -58.41, -52.63, -21.78)\n",
      "EPSG:9248 - Tapi Aike - Type: PJType.GEOGRAPHIC_2D_CRS\n",
      "Area of Use: (-73.28, -52.43, -68.3, -50.33)\n",
      "EPSG:9251 - MMN - Type: PJType.GEOGRAPHIC_2D_CRS\n",
      "Area of Use: (-68.64, -55.11, -63.73, -52.59)\n",
      "EPSG:9253 - MMS - Type: PJType.GEOGRAPHIC_2D_CRS\n",
      "Area of Use: (-68.64, -55.11, -63.73, -52.59)\n"
     ]
    }
   ],
   "source": [
    "for crs in argentiana_crs_list:\n",
    "    print(f\"EPSG:{crs.code} - {crs.name} - Type: {crs.type}\")\n",
    "    print(f\"Area of Use: {crs.area_of_use.bounds}\")"
   ]
  },
  {
   "cell_type": "code",
   "execution_count": 19,
   "id": "28a291a4",
   "metadata": {},
   "outputs": [
    {
     "name": "stderr",
     "output_type": "stream",
     "text": [
      "C:\\Users\\learo\\AppData\\Local\\Temp\\ipykernel_9732\\1267083373.py:23: UserWarning: Geometry is in a geographic CRS. Results from 'area' are likely incorrect. Use 'GeoSeries.to_crs()' to re-project geometries to a projected CRS before this operation.\n",
      "\n",
      "  gdf_aoi = gdf_aoi.reindex(gdf_aoi.geometry.area.sort_values(ascending=False).index)\n"
     ]
    }
   ],
   "source": [
    "# Create a list of dictionaries to store CRS information and geometry\n",
    "crs_data = []\n",
    "\n",
    "for crs in argentiana_crs_list:\n",
    "    # pyproj.AreaOfUse.bounds is (west, south, east, north)\n",
    "    # shapely.geometry.box is (minx, miny, maxx, maxy)\n",
    "    if int(crs.code) == 4326:\n",
    "        # Skip WGS84 as it covers the whole world\n",
    "        continue\n",
    "    bounds = crs.area_of_use.bounds\n",
    "    crs_data.append(\n",
    "        {\n",
    "            \"name\": crs.name,\n",
    "            \"epsg_code\": crs.code,\n",
    "            \"geometry\": box(*bounds),\n",
    "        }\n",
    "    )\n",
    "\n",
    "# Create a GeoDataFrame from the list of dictionaries\n",
    "gdf_aoi = gpd.GeoDataFrame(crs_data, crs=\"EPSG:4326\")\n",
    "\n",
    "# Sort the GeoDataFrame by area in descending order so smaller polygons are plotted on top\n",
    "gdf_aoi = gdf_aoi.reindex(gdf_aoi.geometry.area.sort_values(ascending=False).index)"
   ]
  },
  {
   "cell_type": "code",
   "execution_count": 20,
   "id": "64f6a4e5",
   "metadata": {},
   "outputs": [],
   "source": [
    "def hexcolor_to_rgb(hex_color):\n",
    "    \"\"\"Convert hex color to RGB tuple.\"\"\"\n",
    "    hex_color = hex_color.lstrip('#')\n",
    "    return [int(hex_color[i:i+2], 16) for i in (0, 2, 4)]"
   ]
  },
  {
   "cell_type": "code",
   "execution_count": 21,
   "id": "4093ee70",
   "metadata": {},
   "outputs": [],
   "source": [
    "COLORS = [\n",
    "    \"#FC49A3\",  # pink\n",
    "    \"#CC66FF\",  # purple-ish\n",
    "    \"#66CCFF\",  # sky blue\n",
    "    \"#66FFCC\",  # teal\n",
    "    \"#00FF00\",  # lime green\n",
    "    \"#FFCC66\",  # light orange\n",
    "    \"#FF6666\",  # salmon\n",
    "    \"#FF0000\",  # red\n",
    "    \"#FF8000\",  # orange\n",
    "    \"#FFFF66\",  # yellow\n",
    "    \"#00FFFF\",  # turquoise\n",
    "]"
   ]
  },
  {
   "cell_type": "code",
   "execution_count": 31,
   "id": "6e8daa9a",
   "metadata": {},
   "outputs": [
    {
     "data": {
      "application/vnd.jupyter.widget-view+json": {
       "model_id": "812fc4681a0844c98e434c05c53b6bea",
       "version_major": 2,
       "version_minor": 1
      },
      "text/plain": [
       "Map(basemap_style=<CartoBasemap.DarkMatter: 'https://basemaps.cartocdn.com/gl/dark-matter-gl-style/style.json'…"
      ]
     },
     "execution_count": 31,
     "metadata": {},
     "output_type": "execute_result"
    }
   ],
   "source": [
    "# Create a lonboard map and add the GeoDataFrame as a layer\n",
    "aoi_lyr = PolygonLayer.from_geopandas(\n",
    "    gdf=gdf_aoi,\n",
    "    get_fill_color='orange',\n",
    "    opacity=0.5,\n",
    "    get_line_color=[0, 0, 0],\n",
    "    get_line_width=2,\n",
    "    auto_highlight=True\n",
    ")\n",
    "\n",
    "\n",
    "Map(\n",
    "    layers=[aoi_lyr],\n",
    "    view_state={\"longitude\": -64, \"latitude\": -34, \"zoom\": 3},\n",
    "    basemap_style=CartoBasemap.DarkMatter\n",
    ")"
   ]
  },
  {
   "cell_type": "code",
   "execution_count": null,
   "id": "40421ad9",
   "metadata": {},
   "outputs": [],
   "source": []
  }
 ],
 "metadata": {
  "kernelspec": {
   "display_name": "geopython",
   "language": "python",
   "name": "python3"
  },
  "language_info": {
   "codemirror_mode": {
    "name": "ipython",
    "version": 3
   },
   "file_extension": ".py",
   "mimetype": "text/x-python",
   "name": "python",
   "nbconvert_exporter": "python",
   "pygments_lexer": "ipython3",
   "version": "3.13.4"
  }
 },
 "nbformat": 4,
 "nbformat_minor": 5
}
